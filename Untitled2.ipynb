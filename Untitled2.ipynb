{
 "cells": [
  {
   "cell_type": "code",
   "execution_count": 76,
   "metadata": {},
   "outputs": [
    {
     "name": "stderr",
     "output_type": "stream",
     "text": [
      "C:\\ProgramData\\Anaconda3\\lib\\site-packages\\ipykernel_launcher.py:21: DeprecationWarning: \n",
      ".ix is deprecated. Please use\n",
      ".loc for label based indexing or\n",
      ".iloc for positional indexing\n",
      "\n",
      "See the documentation here:\n",
      "http://pandas.pydata.org/pandas-docs/stable/indexing.html#ix-indexer-is-deprecated\n",
      "C:\\ProgramData\\Anaconda3\\lib\\site-packages\\ipykernel_launcher.py:22: DeprecationWarning: \n",
      ".ix is deprecated. Please use\n",
      ".loc for label based indexing or\n",
      ".iloc for positional indexing\n",
      "\n",
      "See the documentation here:\n",
      "http://pandas.pydata.org/pandas-docs/stable/indexing.html#ix-indexer-is-deprecated\n"
     ]
    },
    {
     "data": {
      "text/plain": [
       "(13354, 11)"
      ]
     },
     "execution_count": 76,
     "metadata": {},
     "output_type": "execute_result"
    }
   ],
   "source": [
    "import re\n",
    "import pandas as pd\n",
    "import numpy as np\n",
    "import matplotlib.pyplot as plt\n",
    "import collections\n",
    "from datetime import datetime as dt\n",
    "import seaborn as sns\n",
    "from mpl_toolkits.mplot3d import Axes3D\n",
    "import matplotlib.pyplot as plt\n",
    "from sklearn.feature_selection import SelectKBest\n",
    "from sklearn.feature_selection import chi2\n",
    "import math\n",
    "import datetime\n",
    "\n",
    "# importing data\n",
    "data  = pd.ExcelFile(\"Data_Train.xlsx\")\n",
    "data = data.parse(\"Sheet1\")\n",
    "data1 = pd.ExcelFile(\"Test_set.xlsx\")\n",
    "test_data = data1.parse(\"Sheet1\")\n",
    "\n",
    "data.ix[9039,'Route'] = 'DEL → BOM → COK'\n",
    "data.ix[9039,'Total_Stops'] = '1 stop'\n",
    "\n",
    "test_data['Price'] = 0\n",
    "\n",
    "dataset = pd.concat([data,test_data],ignore_index = True)\n",
    "dataset.shape\n",
    "\n"
   ]
  },
  {
   "cell_type": "code",
   "execution_count": 77,
   "metadata": {},
   "outputs": [
    {
     "data": {
      "text/plain": [
       "Airline                  IndiGo\n",
       "Date_of_Journey      24/03/2019\n",
       "Source                 Banglore\n",
       "Destination           New Delhi\n",
       "Route                 BLR → DEL\n",
       "Dep_Time                  22:20\n",
       "Arrival_Time       01:10 22 Mar\n",
       "Duration                 2h 50m\n",
       "Total_Stops            non-stop\n",
       "Additional_Info         No info\n",
       "Price                      3897\n",
       "BLR                           1\n",
       "DEL                           1\n",
       "CCU                           0\n",
       "IXR                           0\n",
       "BBI                           0\n",
       "LKO                           0\n",
       "BOM                           0\n",
       "COK                           0\n",
       "NAG                           0\n",
       "MAA                           0\n",
       "AMD                           0\n",
       "PNQ                           0\n",
       "IDR                           0\n",
       "GAU                           0\n",
       "HYD                           0\n",
       "BHO                           0\n",
       "JAI                           0\n",
       "ATQ                           0\n",
       "JDH                           0\n",
       "GOI                           0\n",
       "BDQ                           0\n",
       "TRV                           0\n",
       "IXU                           0\n",
       "IXB                           0\n",
       "UDR                           0\n",
       "RPR                           0\n",
       "DED                           0\n",
       "VGA                           0\n",
       "VNS                           0\n",
       "ISK                           0\n",
       "IXC                           0\n",
       "PAT                           0\n",
       "JLR                           0\n",
       "KNU                           0\n",
       "GWL                           0\n",
       "VTZ                           0\n",
       "NDC                           0\n",
       "HBX                           0\n",
       "IXZ                           0\n",
       "IMF                           0\n",
       "IXA                           0\n",
       "STV                           0\n",
       "TIR                           0\n",
       "Name: 0, dtype: object"
      ]
     },
     "execution_count": 77,
     "metadata": {},
     "output_type": "execute_result"
    }
   ],
   "source": [
    "try_data = dataset['Route'].values\n",
    "list = []\n",
    "temp = []\n",
    "for i in range(len(try_data)):\n",
    "    temp = (try_data[i].split(' → '))\n",
    "    for j in temp:\n",
    "        if(j not in list):\n",
    "            list.append(j)\n",
    "for i in list:\n",
    "    dataset[i] = 0\n",
    "    \n",
    "for i in range(len(dataset)):\n",
    "    temp = (dataset['Route'][i].split(' → '))\n",
    "    for j in temp:\n",
    "        dataset.loc[i,j] = 1\n",
    "        \n",
    "        \n",
    "\n",
    "dataset.loc[0]\n"
   ]
  },
  {
   "cell_type": "code",
   "execution_count": 78,
   "metadata": {},
   "outputs": [],
   "source": [
    "dataset['Class'] = 'economy'\n",
    "dataset.loc[dataset['Airline'] == 'Jet Airways Business', 'Class'] = 'business'\n",
    "dataset.loc[dataset['Additional_Info'] == 'business class', 'Class'] = 'business'\n",
    "dataset.loc[dataset['Additional_Info'] == 'business class', 'Additional_Info'] = 'no info'\n",
    "dataset.loc[dataset['Airline'] == 'Vistara Premium economy', 'Class'] = 'premium economy'\n",
    "dataset.loc[dataset['Airline'] == 'Multiple carriers Premium economy', 'Class'] = 'premium economy'\n",
    "\n",
    "dataset['In-Flight Meal'] = 1\n",
    "dataset.loc[dataset['Additional_Info'] == 'in-flight meal not included', 'In-Flight Meal'] = 0\n",
    "dataset.loc[dataset['Additional_Info'] == 'in-flight meal not included', 'Additional_Info'] = 'no info'\n",
    "\n",
    "dataset['Change Airport'] = 0\n",
    "dataset.loc[dataset['Additional_Info'] == 'change airports', 'Change Airport'] = 1\n",
    "dataset.loc[dataset['Additional_Info'] == 'change airports', 'Additional_Info'] = 'no info'\n",
    "\n",
    "dataset['Check-in Baggage'] = 1\n",
    "dataset.loc[dataset['Additional_Info'] == 'no check-in baggage included', 'Check-in Baggage'] = 0\n",
    "dataset.loc[dataset['Additional_Info'] == 'no check-in baggage included', 'Additional_Info'] = 'no info'\n",
    "\n",
    "\n",
    "dataset['Red Eye'] = 0\n",
    "dataset.loc[dataset['Additional_Info'] == 'red-eye flight', 'Red Eye'] = 1\n",
    "dataset.loc[dataset['Additional_Info'] == 'red-eye flight', 'Additional_Info'] = 'no info'"
   ]
  },
  {
   "cell_type": "code",
   "execution_count": 79,
   "metadata": {},
   "outputs": [
    {
     "name": "stderr",
     "output_type": "stream",
     "text": [
      "C:\\ProgramData\\Anaconda3\\lib\\site-packages\\ipykernel_launcher.py:2: DeprecationWarning: \n",
      ".ix is deprecated. Please use\n",
      ".loc for label based indexing or\n",
      ".iloc for positional indexing\n",
      "\n",
      "See the documentation here:\n",
      "http://pandas.pydata.org/pandas-docs/stable/indexing.html#ix-indexer-is-deprecated\n",
      "  \n",
      "C:\\ProgramData\\Anaconda3\\lib\\site-packages\\ipykernel_launcher.py:3: DeprecationWarning: \n",
      ".ix is deprecated. Please use\n",
      ".loc for label based indexing or\n",
      ".iloc for positional indexing\n",
      "\n",
      "See the documentation here:\n",
      "http://pandas.pydata.org/pandas-docs/stable/indexing.html#ix-indexer-is-deprecated\n",
      "  This is separate from the ipykernel package so we can avoid doing imports until\n",
      "C:\\ProgramData\\Anaconda3\\lib\\site-packages\\ipykernel_launcher.py:7: DeprecationWarning: \n",
      ".ix is deprecated. Please use\n",
      ".loc for label based indexing or\n",
      ".iloc for positional indexing\n",
      "\n",
      "See the documentation here:\n",
      "http://pandas.pydata.org/pandas-docs/stable/indexing.html#ix-indexer-is-deprecated\n",
      "  import sys\n",
      "C:\\ProgramData\\Anaconda3\\lib\\site-packages\\ipykernel_launcher.py:9: DeprecationWarning: \n",
      ".ix is deprecated. Please use\n",
      ".loc for label based indexing or\n",
      ".iloc for positional indexing\n",
      "\n",
      "See the documentation here:\n",
      "http://pandas.pydata.org/pandas-docs/stable/indexing.html#ix-indexer-is-deprecated\n",
      "  if __name__ == '__main__':\n",
      "C:\\ProgramData\\Anaconda3\\lib\\site-packages\\ipykernel_launcher.py:11: DeprecationWarning: \n",
      ".ix is deprecated. Please use\n",
      ".loc for label based indexing or\n",
      ".iloc for positional indexing\n",
      "\n",
      "See the documentation here:\n",
      "http://pandas.pydata.org/pandas-docs/stable/indexing.html#ix-indexer-is-deprecated\n",
      "  # This is added back by InteractiveShellApp.init_path()\n",
      "C:\\ProgramData\\Anaconda3\\lib\\site-packages\\ipykernel_launcher.py:14: DeprecationWarning: \n",
      ".ix is deprecated. Please use\n",
      ".loc for label based indexing or\n",
      ".iloc for positional indexing\n",
      "\n",
      "See the documentation here:\n",
      "http://pandas.pydata.org/pandas-docs/stable/indexing.html#ix-indexer-is-deprecated\n",
      "  \n",
      "C:\\ProgramData\\Anaconda3\\lib\\site-packages\\ipykernel_launcher.py:15: DeprecationWarning: \n",
      ".ix is deprecated. Please use\n",
      ".loc for label based indexing or\n",
      ".iloc for positional indexing\n",
      "\n",
      "See the documentation here:\n",
      "http://pandas.pydata.org/pandas-docs/stable/indexing.html#ix-indexer-is-deprecated\n",
      "  from ipykernel import kernelapp as app\n",
      "C:\\ProgramData\\Anaconda3\\lib\\site-packages\\ipykernel_launcher.py:17: DeprecationWarning: \n",
      ".ix is deprecated. Please use\n",
      ".loc for label based indexing or\n",
      ".iloc for positional indexing\n",
      "\n",
      "See the documentation here:\n",
      "http://pandas.pydata.org/pandas-docs/stable/indexing.html#ix-indexer-is-deprecated\n"
     ]
    }
   ],
   "source": [
    "for i in range(len(dataset)):\n",
    "    s = dataset.ix[i]['Dep_Time']\n",
    "    dataset.ix[i,'Dep_Time'] = int(s[:-3]) * 60 + int(s[-2:])\n",
    "        \n",
    "for i in range(len(dataset)):\n",
    "    x = [] \n",
    "    x = re.findall(r'[0-9]+',dataset.ix[i]['Duration'])\n",
    "    if(len(x) == 2):\n",
    "        dataset.ix[i,'Duration'] = int(x[0])*60 + int(x[1])\n",
    "    else:\n",
    "        dataset.ix[i,'Duration'] = int(x[0])*60 \n",
    "        \n",
    "for i in range(len(dataset)):\n",
    "    if(dataset.ix[i]['Total_Stops'] == 'non-stop'):\n",
    "        dataset.ix[i,'Total_Stops'] = 0\n",
    "    else:\n",
    "        dataset.ix[i,'Total_Stops'] = int(dataset.ix[i]['Total_Stops'][0])\n",
    "        "
   ]
  },
  {
   "cell_type": "code",
   "execution_count": 80,
   "metadata": {},
   "outputs": [
    {
     "name": "stdout",
     "output_type": "stream",
     "text": [
      "Index(['Airline', 'Source', 'Destination', 'Dep_Time', 'Duration',\n",
      "       'Total_Stops', 'Additional_Info', 'Price', 'BLR', 'DEL', 'CCU', 'IXR',\n",
      "       'BBI', 'LKO', 'BOM', 'COK', 'NAG', 'MAA', 'AMD', 'PNQ', 'IDR', 'GAU',\n",
      "       'HYD', 'BHO', 'JAI', 'ATQ', 'JDH', 'GOI', 'BDQ', 'TRV', 'IXU', 'IXB',\n",
      "       'UDR', 'RPR', 'DED', 'VGA', 'VNS', 'ISK', 'IXC', 'PAT', 'JLR', 'KNU',\n",
      "       'GWL', 'VTZ', 'NDC', 'HBX', 'IXZ', 'IMF', 'IXA', 'STV', 'TIR', 'Class',\n",
      "       'In-Flight Meal', 'Change Airport', 'Check-in Baggage', 'Red Eye'],\n",
      "      dtype='object')\n",
      "54\n"
     ]
    }
   ],
   "source": [
    "dataset = dataset.drop(['Date_of_Journey','Arrival_Time','Route'],axis = 1)\n",
    "print(dataset.columns)\n",
    "print(dataset.columns.get_loc(\"Check-in Baggage\"))"
   ]
  },
  {
   "cell_type": "code",
   "execution_count": 81,
   "metadata": {},
   "outputs": [],
   "source": [
    "dataset_x = dataset.loc[:,dataset.columns != 'Price'].values\n",
    "dataset_y = dataset['Price'].values\n"
   ]
  },
  {
   "cell_type": "code",
   "execution_count": 82,
   "metadata": {},
   "outputs": [],
   "source": [
    "\n",
    "\n",
    "from sklearn.preprocessing import LabelEncoder, OneHotEncoder\n",
    "#Airline\n",
    "LabelEncoder_0 = LabelEncoder() \n",
    "dataset_x[:,0] = LabelEncoder_0.fit_transform(dataset_x[:,0])\n",
    "\n",
    "#Source\n",
    "LabelEncoder_1 = LabelEncoder() \n",
    "dataset_x[:,1] = LabelEncoder_1.fit_transform(dataset_x[:,1])\n",
    "\n",
    "#Destination\n",
    "LabelEncoder_2 = LabelEncoder() \n",
    "dataset_x[:,2] = LabelEncoder_2.fit_transform(dataset_x[:,2])\n",
    "\n",
    "#Total_Stops\n",
    "LabelEncoder_5 = LabelEncoder() \n",
    "dataset_x[:,5] = LabelEncoder_5.fit_transform(dataset_x[:,5])\n",
    "\n",
    "#Additional_Info\n",
    "LabelEncoder_6 = LabelEncoder() \n",
    "dataset_x[:,6] = LabelEncoder_6.fit_transform(dataset_x[:,6])\n",
    "\n",
    "#class\n",
    "LabelEncoder_50 = LabelEncoder() \n",
    "dataset_x[:,50] = LabelEncoder_50.fit_transform(dataset_x[:,50])\n",
    "\n",
    "#in flight meal\n",
    "LabelEncoder_51 = LabelEncoder() \n",
    "dataset_x[:,51] = LabelEncoder_51.fit_transform(dataset_x[:,51])\n",
    "\n",
    "#change airport\n",
    "LabelEncoder_52 = LabelEncoder() \n",
    "dataset_x[:,52] = LabelEncoder_52.fit_transform(dataset_x[:,52])\n",
    "\n",
    "#checkin baggage\n",
    "LabelEncoder_53 = LabelEncoder() \n",
    "dataset_x[:,53] = LabelEncoder_53.fit_transform(dataset_x[:,53])\n",
    "\n",
    "#checkin baggage\n",
    "LabelEncoder_54 = LabelEncoder() \n",
    "dataset_x[:,54] = LabelEncoder_54.fit_transform(dataset_x[:,54])\n"
   ]
  },
  {
   "cell_type": "code",
   "execution_count": null,
   "metadata": {},
   "outputs": [],
   "source": []
  },
  {
   "cell_type": "code",
   "execution_count": 83,
   "metadata": {},
   "outputs": [
    {
     "name": "stdout",
     "output_type": "stream",
     "text": [
      "(10683, 727) (10683,) (2671, 727)\n"
     ]
    }
   ],
   "source": [
    "OneHotEncoder_X = OneHotEncoder()\n",
    "dataset_train_x = OneHotEncoder_X.fit_transform(dataset_x).toarray()\n",
    "#dataset_test1 = OneHotEncoder_X.transform(dataset_test).toarray()\n",
    "#print(dataset_test1.shape)\n",
    "#print(dataset_train_x1.shape)\n",
    "\n",
    "\n",
    "dataset_train_x1 = dataset_train_x[:10683]\n",
    "dataset_test = dataset_train_x[10683:]\n",
    "dataset_train_y = dataset_y[:10683]\n",
    "print(dataset_train_x1.shape,dataset_train_y.shape,dataset_test.shape)"
   ]
  },
  {
   "cell_type": "code",
   "execution_count": 89,
   "metadata": {},
   "outputs": [
    {
     "name": "stdout",
     "output_type": "stream",
     "text": [
      "(8546, 727) (2137, 727) (8546,)\n"
     ]
    }
   ],
   "source": [
    "from sklearn.ensemble import GradientBoostingRegressor\n",
    "from sklearn.cross_validation import train_test_split\n",
    "X_train, X_test, Y_train, Y_test = train_test_split(dataset_train_x1,dataset_train_y,test_size = 0.2, random_state = 0)\n",
    "print(X_train.shape,X_test.shape,Y_train.shape)\n",
    "Y_train = Y_train.reshape(-1,1)"
   ]
  },
  {
   "cell_type": "code",
   "execution_count": 90,
   "metadata": {},
   "outputs": [
    {
     "name": "stderr",
     "output_type": "stream",
     "text": [
      "C:\\ProgramData\\Anaconda3\\lib\\site-packages\\sklearn\\utils\\validation.py:578: DataConversionWarning: A column-vector y was passed when a 1d array was expected. Please change the shape of y to (n_samples, ), for example using ravel().\n",
      "  y = column_or_1d(y, warn=True)\n"
     ]
    },
    {
     "name": "stdout",
     "output_type": "stream",
     "text": [
      "2489.274302164027\n"
     ]
    },
    {
     "data": {
      "text/plain": [
       "(array([ 6171,  3873, 10991, ..., 11982,  9663,  9181], dtype=int64),\n",
       " array([ 6598.12984771,  4109.37924325, 11598.00893417, ...,\n",
       "         6847.17992397,  9939.62339518, 11953.16724104]))"
      ]
     },
     "execution_count": 90,
     "metadata": {},
     "output_type": "execute_result"
    }
   ],
   "source": [
    "gbrt=GradientBoostingRegressor()\n",
    "gbrt.fit(X_train, Y_train)\n",
    "predict_Y_test=gbrt.predict(X_test)\n",
    "\n",
    "error = 0\n",
    "for i in range(len(predict_Y_test)):\n",
    "    error = error + (((predict_Y_test[i]) - (Y_test[i]))**2)\n",
    "    \n",
    "print(math.sqrt(error/len(X_test)))\n",
    "\n",
    "Y_test,predict_Y_test"
   ]
  },
  {
   "cell_type": "code",
   "execution_count": 88,
   "metadata": {},
   "outputs": [],
   "source": [
    "preds = gbrt.predict(dataset_test)\n",
    "preds\n",
    "file = 0\n",
    "file = pd.DataFrame(preds)\n",
    "file.columns = ['Price']\n",
    "file.to_excel(\"Submission5.xlsx\",index = False)"
   ]
  },
  {
   "cell_type": "code",
   "execution_count": null,
   "metadata": {},
   "outputs": [],
   "source": []
  }
 ],
 "metadata": {
  "kernelspec": {
   "display_name": "Python 3",
   "language": "python",
   "name": "python3"
  },
  "language_info": {
   "codemirror_mode": {
    "name": "ipython",
    "version": 3
   },
   "file_extension": ".py",
   "mimetype": "text/x-python",
   "name": "python",
   "nbconvert_exporter": "python",
   "pygments_lexer": "ipython3",
   "version": "3.6.5"
  }
 },
 "nbformat": 4,
 "nbformat_minor": 2
}
